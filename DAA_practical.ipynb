{
 "cells": [
  {
   "cell_type": "code",
   "execution_count": 2,
   "id": "07602c78",
   "metadata": {},
   "outputs": [],
   "source": [
    "#DAA p1- fabonacci series using recursion"
   ]
  },
  {
   "cell_type": "code",
   "execution_count": 1,
   "id": "7a7ca792",
   "metadata": {},
   "outputs": [
    {
     "name": "stdout",
     "output_type": "stream",
     "text": [
      "34\n"
     ]
    }
   ],
   "source": [
    "def fibonacci(n):\n",
    "    a = 0\n",
    "    b = 1\n",
    "    if n < 0:\n",
    "        print(\"Incorrect input\")\n",
    "    elif n == 0:\n",
    "        return a\n",
    "    elif n == 1:\n",
    "        return b\n",
    "    else:\n",
    "        for i in range(2, n+1):\n",
    "            c = a + b\n",
    "            a = b\n",
    "            b = c\n",
    "        return b\n",
    "    \n",
    "# Driver Program\n",
    "print(fibonacci(9))"
   ]
  },
  {
   "cell_type": "code",
   "execution_count": null,
   "id": "f8e49cd0",
   "metadata": {},
   "outputs": [],
   "source": [
    "#practical 2. Write a program to implement Huffman Encoding using a greedy strategy.\n"
   ]
  },
  {
   "cell_type": "code",
   "execution_count": 4,
   "id": "3ac5c184",
   "metadata": {},
   "outputs": [
    {
     "name": "stdout",
     "output_type": "stream",
     "text": [
      "Original data: this is an example for huffman encoding\n",
      "Encoded data: 0101001001001001010110010010101111100010111100111011110011100000110111101011101110010110010101001100011011101001111110001011110000011111100101011100100010001\n",
      "Decoded data: this is an example for huffman encoding\n"
     ]
    }
   ],
   "source": [
    "import heapq\n",
    "from collections import defaultdict\n",
    "\n",
    "class Node:\n",
    "    def __init__(self, char, frequency):\n",
    "        self.char = char\n",
    "        self.frequency = frequency\n",
    "        self.left = None\n",
    "        self.right = None\n",
    "\n",
    "    def __lt__(self, other):\n",
    "        return self.frequency < other.frequency\n",
    "\n",
    "def build_huffman_tree(data):\n",
    "    # Count character frequencies\n",
    "    char_frequency = defaultdict(int)\n",
    "    for char in data:\n",
    "        char_frequency[char] += 1\n",
    "\n",
    "    # Create a priority queue (min-heap) for the characters\n",
    "    priority_queue = [Node(char, freq) for char, freq in char_frequency.items()]\n",
    "    heapq.heapify(priority_queue)\n",
    "\n",
    "    # Build the Huffman tree\n",
    "    while len(priority_queue) > 1:\n",
    "        left = heapq.heappop(priority_queue)\n",
    "        right = heapq.heappop(priority_queue)\n",
    "        merged_node = Node(None, left.frequency + right.frequency)\n",
    "        merged_node.left = left\n",
    "        merged_node.right = right\n",
    "        heapq.heappush(priority_queue, merged_node)\n",
    "\n",
    "    # The remaining node is the root of the Huffman tree\n",
    "    return priority_queue[0]\n",
    "\n",
    "def build_huffman_codes(root):\n",
    "    codes = {}\n",
    "\n",
    "    def traverse(node, code):\n",
    "        if node is not None:\n",
    "            if node.char is not None:\n",
    "                codes[node.char] = code\n",
    "            traverse(node.left, code + '0')\n",
    "            traverse(node.right, code + '1')\n",
    "\n",
    "    traverse(root, '')\n",
    "    return codes\n",
    "\n",
    "def huffman_encoding(data):\n",
    "    if not data:\n",
    "        return \"\", None\n",
    "\n",
    "    root = build_huffman_tree(data)\n",
    "    codes = build_huffman_codes(root)\n",
    "\n",
    "    encoded_data = \"\".join(codes[char] for char in data)\n",
    "    return encoded_data, root\n",
    "\n",
    "def huffman_decoding(encoded_data, root):\n",
    "    if not encoded_data:\n",
    "        return \"\"\n",
    "\n",
    "    decoded_data = []\n",
    "    current_node = root\n",
    "\n",
    "    for bit in encoded_data:\n",
    "        if bit == '0':\n",
    "            current_node = current_node.left\n",
    "        else:\n",
    "            current_node = current_node.right\n",
    "\n",
    "        if current_node.char is not None:\n",
    "            decoded_data.append(current_node.char)\n",
    "            current_node = root\n",
    "\n",
    "    return \"\".join(decoded_data)\n",
    "\n",
    "# Example usage\n",
    "if __name__ == \"__main__\":\n",
    "    data = \"this is an example for huffman encoding\"\n",
    "    encoded_data, tree = huffman_encoding(data)\n",
    "    decoded_data = huffman_decoding(encoded_data, tree)\n",
    "\n",
    "    print(f\"Original data: {data}\")\n",
    "    print(f\"Encoded data: {encoded_data}\")\n",
    "    print(f\"Decoded data: {decoded_data}\")\n"
   ]
  },
  {
   "cell_type": "code",
   "execution_count": null,
   "id": "7a491760",
   "metadata": {},
   "outputs": [],
   "source": [
    "#practical 3. Write a program to solve a fractional Knapsack problem using a greedy method."
   ]
  },
  {
   "cell_type": "code",
   "execution_count": 7,
   "id": "1584d0fd",
   "metadata": {},
   "outputs": [
    {
     "name": "stdout",
     "output_type": "stream",
     "text": [
      "240.0\n"
     ]
    }
   ],
   "source": [
    "# Structure for an item which stores weight and\n",
    "# corresponding value of Item\n",
    "class Item:\n",
    "    def __init__(self, profit, weight):\n",
    "        self.profit = profit\n",
    "        self.weight = weight\n",
    "# Main greedy function to solve problem\n",
    "def fractionalKnapsack(W, arr):\n",
    "# Sorting Item on basis of ratio\n",
    "    arr.sort(key=lambda x: (x.profit/x.weight), reverse=True)\n",
    "# Result(value in Knapsack)\n",
    "    finalvalue = 0.0\n",
    "# Looping through all Items\n",
    "    for item in arr:\n",
    "# If adding Item won't overflow,\n",
    "# add it completely\n",
    "        if item.weight <= W:\n",
    "            W -= item.weight\n",
    "            finalvalue += item.profit\n",
    "# If we can't add current Item,\n",
    "# add fractional part of it\n",
    "        else:\n",
    "            finalvalue += item.profit * W / item.weight\n",
    "            break\n",
    "# Returning final value\n",
    "    return finalvalue\n",
    "# Driver Code\n",
    "\n",
    "if __name__ == \"__main__\":\n",
    "    W = 50\n",
    "    arr = [Item(60, 10), Item(100, 20), Item(120, 30)]\n",
    "    # Function call\n",
    "    max_val = fractionalKnapsack(W, arr)\n",
    "    print(max_val)\n"
   ]
  },
  {
   "cell_type": "code",
   "execution_count": 15,
   "id": "ee9b5925",
   "metadata": {},
   "outputs": [],
   "source": [
    "#practical 4. Write a program to solve a 0-1 Knapsack problem using dynamic programming or branch and \n",
    "#bound strategy"
   ]
  },
  {
   "cell_type": "code",
   "execution_count": 8,
   "id": "547876ad",
   "metadata": {},
   "outputs": [
    {
     "name": "stdout",
     "output_type": "stream",
     "text": [
      "220\n"
     ]
    }
   ],
   "source": [
    "# 0 / 1 Knapsack in Python in simple\n",
    "# we can say recursion + memoization = DP\n",
    "def knapsack(wt, val, W, n):\n",
    "# base conditions\n",
    "    if n == 0 or W == 0:\n",
    "        return 0\n",
    "    if t[n][W] != -1:\n",
    "        return t[n][W]\n",
    "# choice diagram code\n",
    "    if wt[n-1] <= W:\n",
    "        t[n][W] = max(\n",
    "        val[n-1] + knapsack(\n",
    "                wt, val, W-wt[n-1], n-1),\n",
    "            knapsack(wt, val, W, n-1))\n",
    "        return t[n][W]\n",
    "    \n",
    "    elif wt[n-1] > W:\n",
    "        t[n][W] = knapsack(wt, val, W, n-1)\n",
    "        return t[n][W]\n",
    "    \n",
    "# Driver code\n",
    "if __name__ == '__main__':\n",
    "    profit = [60, 100, 120]\n",
    "    weight = [10, 20, 30]\n",
    "    W = 50\n",
    "    n = len(profit)\n",
    "    # We initialize the matrix with -1 at first.\n",
    "    t = [[-1 for i in range(W + 1)] for j in range(n + 1)]\n",
    "    print(knapsack(weight, profit, W, n))\n"
   ]
  },
  {
   "cell_type": "code",
   "execution_count": null,
   "id": "08a20c96",
   "metadata": {},
   "outputs": [],
   "source": [
    "#practical 5. Design n-Queens matrix having first Queen placed. Use backtracking to place remaining \n",
    "#Queens to generate the final n-queen‘s matrix"
   ]
  },
  {
   "cell_type": "code",
   "execution_count": 16,
   "id": "8b67556a",
   "metadata": {},
   "outputs": [
    {
     "name": "stdout",
     "output_type": "stream",
     "text": [
      "1 0 0 0 0 0 0 0\n",
      "0 0 0 0 1 0 0 0\n",
      "0 0 0 0 0 0 0 1\n",
      "0 0 0 0 0 1 0 0\n",
      "0 0 1 0 0 0 0 0\n",
      "0 0 0 0 0 0 1 0\n",
      "0 1 0 0 0 0 0 0\n",
      "0 0 0 1 0 0 0 0\n"
     ]
    }
   ],
   "source": [
    "def is_safe(board, row, col, n):\n",
    "    # Check for queens in the same column\n",
    "    for i in range(row):\n",
    "        if board[i][col] == 1:\n",
    "            return False\n",
    "\n",
    "    # Check for queens in the upper left diagonal\n",
    "    for i, j in zip(range(row, -1, -1), range(col, -1, -1)):\n",
    "        if board[i][j] == 1:\n",
    "            return False\n",
    "\n",
    "    # Check for queens in the upper right diagonal\n",
    "    for i, j in zip(range(row, -1, -1), range(col, n)):\n",
    "        if board[i][j] == 1:\n",
    "            return False\n",
    "\n",
    "    return True\n",
    "\n",
    "def solve_n_queens_util(board, row, n):\n",
    "    if row == n:\n",
    "        return True\n",
    "\n",
    "    for col in range(n):\n",
    "        if is_safe(board, row, col, n):\n",
    "            board[row][col] = 1\n",
    "\n",
    "            if solve_n_queens_util(board, row + 1, n):\n",
    "                return True\n",
    "\n",
    "            board[row][col] = 0\n",
    "\n",
    "    return False\n",
    "\n",
    "def solve_n_queens(n, first_queen_column):\n",
    "    board = [[0 for _ in range(n)] for _ in range(n)]\n",
    "    board[0][first_queen_column] = 1\n",
    "\n",
    "    if solve_n_queens_util(board, 1, n):\n",
    "        for row in board:\n",
    "            print(' '.join(map(str, row)))\n",
    "    else:\n",
    "        print(f\"No solution exists for {n}-Queens problem.\")\n",
    "\n",
    "# Example usage\n",
    "if __name__ == \"__main__\":\n",
    "    n = 8  # Change this to the desired size of the board\n",
    "    first_queen_column = 0  # Change this to the desired column of the first queen\n",
    "    solve_n_queens(n, first_queen_column)\n"
   ]
  },
  {
   "cell_type": "code",
   "execution_count": null,
   "id": "74cfc8ce",
   "metadata": {},
   "outputs": [],
   "source": []
  }
 ],
 "metadata": {
  "kernelspec": {
   "display_name": "Python 3 (ipykernel)",
   "language": "python",
   "name": "python3"
  },
  "language_info": {
   "codemirror_mode": {
    "name": "ipython",
    "version": 3
   },
   "file_extension": ".py",
   "mimetype": "text/x-python",
   "name": "python",
   "nbconvert_exporter": "python",
   "pygments_lexer": "ipython3",
   "version": "3.9.13"
  }
 },
 "nbformat": 4,
 "nbformat_minor": 5
}
